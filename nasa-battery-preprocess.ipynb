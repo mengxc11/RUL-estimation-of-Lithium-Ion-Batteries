{
 "cells": [
  {
   "cell_type": "markdown",
   "id": "9967e23e",
   "metadata": {
    "papermill": {
     "duration": 0.002925,
     "end_time": "2025-08-02T04:04:32.320688",
     "exception": false,
     "start_time": "2025-08-02T04:04:32.317763",
     "status": "completed"
    },
    "tags": []
   },
   "source": [
    "# 一、配置基本环境"
   ]
  },
  {
   "cell_type": "markdown",
   "id": "cb7baff2",
   "metadata": {
    "papermill": {
     "duration": 0.002027,
     "end_time": "2025-08-02T04:04:32.325476",
     "exception": false,
     "start_time": "2025-08-02T04:04:32.323449",
     "status": "completed"
    },
    "tags": []
   },
   "source": [
    "## 下载ZIP模式"
   ]
  },
  {
   "cell_type": "code",
   "execution_count": 1,
   "id": "971c6260",
   "metadata": {
    "execution": {
     "iopub.execute_input": "2025-08-02T04:04:32.331465Z",
     "iopub.status.busy": "2025-08-02T04:04:32.331136Z",
     "iopub.status.idle": "2025-08-02T04:04:37.904161Z",
     "shell.execute_reply": "2025-08-02T04:04:37.902991Z"
    },
    "papermill": {
     "duration": 5.577939,
     "end_time": "2025-08-02T04:04:37.905696",
     "exception": false,
     "start_time": "2025-08-02T04:04:32.327757",
     "status": "completed"
    },
    "tags": []
   },
   "outputs": [
    {
     "name": "stdout",
     "output_type": "stream",
     "text": [
      "数据集内容:\n",
      "total 700\r\n",
      "-rw-r--r--  1 nobody nogroup 642332 Aug  2 04:02 baseline.ipynb\r\n",
      "drwxr-xr-x 10 nobody nogroup      0 Aug  2 04:02 batteryml\r\n",
      "drwxr-xr-x  2 nobody nogroup      0 Aug  2 04:02 bin\r\n",
      "-rw-r--r--  1 nobody nogroup    444 Aug  2 04:02 CODE_OF_CONDUCT.md\r\n",
      "drwxr-xr-x  5 nobody nogroup      0 Aug  2 04:02 configs\r\n",
      "-rw-r--r--  1 nobody nogroup   4903 Aug  2 04:02 dataprepare.md\r\n",
      "drwxr-xr-x  2 nobody nogroup      0 Aug  2 04:02 image\r\n",
      "-rw-r--r--  1 nobody nogroup   1141 Aug  2 04:02 LICENSE\r\n",
      "-rw-r--r--  1 nobody nogroup   9366 Aug  2 04:02 README.md\r\n",
      "-rw-r--r--  1 nobody nogroup    116 Aug  2 04:02 requirements.txt\r\n",
      "-rw-r--r--  1 nobody nogroup  13682 Aug  2 04:02 result.ipynb\r\n",
      "-rw-r--r--  1 nobody nogroup   1123 Aug  2 04:02 run_all_rul_baseline.sh\r\n",
      "-rw-r--r--  1 nobody nogroup   2757 Aug  2 04:02 SECURITY.md\r\n",
      "-rw-r--r--  1 nobody nogroup   1073 Aug  2 04:02 setup.py\r\n",
      "-rw-r--r--  1 nobody nogroup   9971 Aug  2 04:02 soh_example.ipynb\r\n",
      "\n",
      "已添加路径: /kaggle/input/batteryml-main/BatteryML-main\n",
      "\n",
      "❌ 导入失败: No module named 'addict'\n",
      "尝试备用导入方法...\n",
      "❌ 最终导入失败: cannot import name 'data_builder' from 'builders' (/kaggle/input/batteryml-main/BatteryML-main/batteryml/builders.py)\n",
      "\n",
      "您可以手动导航到目录:\n",
      "!ls /kaggle/input/batteryml-main/BatteryML-main/batteryml\n"
     ]
    }
   ],
   "source": [
    "import os\n",
    "import sys\n",
    "\n",
    "# 1. 确认数据集路径\n",
    "dataset_path = '/kaggle/input/batteryml-main/BatteryML-main'\n",
    "print(\"数据集内容:\")\n",
    "!ls -l {dataset_path}\n",
    "\n",
    "# 2. 直接使用解压后的目录（无需解压）\n",
    "extract_path = dataset_path  # 数据集已经是解压后的目录\n",
    "\n",
    "# 3. 添加到 Python 路径\n",
    "if extract_path not in sys.path:\n",
    "    sys.path.insert(0, extract_path)\n",
    "    print(f\"\\n已添加路径: {extract_path}\")\n",
    "\n",
    "# 4. 验证导入\n",
    "try:\n",
    "    # 尝试导入主包\n",
    "    import batteryml\n",
    "    print(\"\\n✅ 成功导入 batteryml!\")\n",
    "    \n",
    "    # 尝试导入特定模块\n",
    "    from batteryml.builders import data_builder\n",
    "    print(\"✅ 成功导入 data_builder!\")\n",
    "    \n",
    "    # 测试使用\n",
    "    db = data_builder.DataBuilder()\n",
    "    data = db.load_data()\n",
    "    print(\"\\n示例数据:\")\n",
    "    print(data.head() if hasattr(data, 'head') else data[:5])\n",
    "    \n",
    "except ImportError as e:\n",
    "    print(f\"\\n❌ 导入失败: {e}\")\n",
    "    print(\"尝试备用导入方法...\")\n",
    "    \n",
    "    # 备用方法：直接导入子模块\n",
    "    try:\n",
    "        import sys\n",
    "        # 添加子目录路径\n",
    "        sys.path.append(f\"{extract_path}/batteryml\")\n",
    "        \n",
    "        from builders import data_builder\n",
    "        print(\"✅ 通过子路径导入成功!\")\n",
    "        \n",
    "    except Exception as e:\n",
    "        print(f\"❌ 最终导入失败: {e}\")\n",
    "        print(\"\\n您可以手动导航到目录:\")\n",
    "        print(f\"!ls {extract_path}/batteryml\")"
   ]
  },
  {
   "cell_type": "markdown",
   "id": "123a28ad",
   "metadata": {
    "papermill": {
     "duration": 0.002582,
     "end_time": "2025-08-02T04:04:37.911200",
     "exception": false,
     "start_time": "2025-08-02T04:04:37.908618",
     "status": "completed"
    },
    "tags": []
   },
   "source": [
    "## 导入模式"
   ]
  },
  {
   "cell_type": "code",
   "execution_count": 2,
   "id": "20766ae1",
   "metadata": {
    "execution": {
     "iopub.execute_input": "2025-08-02T04:04:37.918871Z",
     "iopub.status.busy": "2025-08-02T04:04:37.918436Z",
     "iopub.status.idle": "2025-08-02T04:05:10.730266Z",
     "shell.execute_reply": "2025-08-02T04:05:10.728605Z"
    },
    "papermill": {
     "duration": 32.817645,
     "end_time": "2025-08-02T04:05:10.732253",
     "exception": false,
     "start_time": "2025-08-02T04:04:37.914608",
     "status": "completed"
    },
    "tags": []
   },
   "outputs": [
    {
     "name": "stdout",
     "output_type": "stream",
     "text": [
      "Cloning into 'BatteryML'...\r\n",
      "fatal: unable to access 'https://github.com/microsoft/BatteryML.git/': Could not resolve host: github.com\r\n",
      "ls: cannot access 'BatteryML/': No such file or directory\r\n",
      "/bin/bash: line 1: cd: BatteryML: No such file or directory\r\n",
      "/bin/bash: line 1: cd: BatteryML: No such file or directory\r\n"
     ]
    }
   ],
   "source": [
    "# 克隆仓库\n",
    "!git clone https://github.com/microsoft/BatteryML.git\n",
    "\n",
    "# 查看文件结构\n",
    "!ls BatteryML/\n",
    "\n",
    "# 安装依赖\n",
    "!cd BatteryML && pip install -r requirements.txt\n",
    "\n",
    "# 安装BatteryML包\n",
    "!cd BatteryML && pip install .\n",
    "\n",
    "# 验证安装（检查是否有batteryml命令）\n",
    "!which batteryml"
   ]
  },
  {
   "cell_type": "markdown",
   "id": "ac7e47f4",
   "metadata": {
    "papermill": {
     "duration": 0.00244,
     "end_time": "2025-08-02T04:05:10.737558",
     "exception": false,
     "start_time": "2025-08-02T04:05:10.735118",
     "status": "completed"
    },
    "tags": []
   },
   "source": [
    "## 运行"
   ]
  },
  {
   "cell_type": "code",
   "execution_count": 3,
   "id": "363a187b",
   "metadata": {
    "execution": {
     "iopub.execute_input": "2025-08-02T04:05:10.744560Z",
     "iopub.status.busy": "2025-08-02T04:05:10.744196Z",
     "iopub.status.idle": "2025-08-02T04:05:17.796434Z",
     "shell.execute_reply": "2025-08-02T04:05:17.795351Z"
    },
    "papermill": {
     "duration": 7.05785,
     "end_time": "2025-08-02T04:05:17.798099",
     "exception": false,
     "start_time": "2025-08-02T04:05:10.740249",
     "status": "completed"
    },
    "tags": []
   },
   "outputs": [],
   "source": [
    "import pickle\n",
    "import pandas as pd\n",
    "import os\n",
    "import numpy as np\n",
    "import torch\n",
    "import matplotlib.pyplot as plt\n",
    "import inspect\n",
    "import glob\n",
    "\n",
    "from scipy import signal\n",
    "from scipy.interpolate import interp1d\n",
    "from scipy.signal import medfilt\n",
    "from typing import List, Tuple, Optional, Dict, Any\n",
    "\n",
    "\n",
    "from batteryml.builders import FEATURE_EXTRACTORS\n",
    "from batteryml.data.battery_data import BatteryData\n",
    "from batteryml.feature.base import BaseFeatureExtractor\n",
    "from batteryml.visualization import plot_helper\n",
    "from batteryml.visualization.plot_helper import inner_plot_capacity_degradation, plot_capacity_degradation\n",
    "\n",
    "import copy\n",
    "import warnings\n",
    "warnings.filterwarnings('ignore')"
   ]
  },
  {
   "cell_type": "code",
   "execution_count": 4,
   "id": "d654f575",
   "metadata": {
    "execution": {
     "iopub.execute_input": "2025-08-02T04:05:17.805900Z",
     "iopub.status.busy": "2025-08-02T04:05:17.805346Z",
     "iopub.status.idle": "2025-08-02T04:05:17.856588Z",
     "shell.execute_reply": "2025-08-02T04:05:17.855468Z"
    },
    "papermill": {
     "duration": 0.057448,
     "end_time": "2025-08-02T04:05:17.858502",
     "exception": false,
     "start_time": "2025-08-02T04:05:17.801054",
     "status": "completed"
    },
    "tags": []
   },
   "outputs": [
    {
     "name": "stdout",
     "output_type": "stream",
     "text": [
      "数据类型: <class 'dict'>\n",
      "\n",
      "字典的键:\n",
      "['cell_id', 'cycle_data', 'form_factor', 'anode_material', 'cathode_material', 'electrolyte_material', 'nominal_capacity_in_Ah', 'depth_of_charge', 'depth_of_discharge', 'already_spent_cycles', 'max_voltage_limit_in_V', 'min_voltage_limit_in_V', 'max_current_limit_in_A', 'min_current_limit_in_A', 'reference', 'description', 'charge_protocol', 'discharge_protocol']\n",
      "\n",
      "前5个循环数据:\n",
      "\n",
      "循环 #1:\n",
      "  循环数据键: ['cycle_number', 'current_in_A', 'voltage_in_V', 'charge_capacity_in_Ah', 'discharge_capacity_in_Ah', 'time_in_s', 'temperature_in_C', 'internal_resistance_in_ohm']\n",
      "  cycle_number: 1\n",
      "  current_in_A: 长度=197, 前3个值=[-0.0049015892074626, -0.0014780055516425, -2.0125283240860368]\n",
      "  voltage_in_V: 长度=197, 前3个值=[4.191491807505295, 4.190749067776103, 3.9748709122299895]\n",
      "  charge_capacity_in_Ah: None\n",
      "  discharge_capacity_in_Ah: 长度=197, 前3个值=[0.0, 1.4868886062853149e-05, 0.00530778940959121]\n",
      "  time_in_s: 长度=197, 前3个值=[0.0, 16.781, 35.703]\n",
      "  temperature_in_C: 长度=197, 前3个值=[24.330033885570543, 24.325993424022467, 24.38908512756488]\n",
      "  internal_resistance_in_ohm: None\n",
      "\n",
      "循环 #2:\n",
      "  循环数据键: ['cycle_number', 'current_in_A', 'voltage_in_V', 'charge_capacity_in_Ah', 'discharge_capacity_in_Ah', 'time_in_s', 'temperature_in_C', 'internal_resistance_in_ohm']\n",
      "  cycle_number: 2\n",
      "  current_in_A: 长度=196, 前3个值=[2.125117981080765e-05, -0.0008794712663407, -2.0146540312175545]\n",
      "  voltage_in_V: 长度=196, 前3个值=[4.189773213846608, 4.188881380279099, 3.979156704814032]\n",
      "  charge_capacity_in_Ah: None\n",
      "  discharge_capacity_in_Ah: 长度=196, 前3个值=[0.0, 2.0856728641997135e-06, 0.005329532629221285]\n",
      "  time_in_s: 长度=196, 前3个值=[0.0, 16.672, 35.703]\n",
      "  temperature_in_C: 长度=196, 前3个值=[24.697751935729325, 24.685948163596, 24.738132083695746]\n",
      "  internal_resistance_in_ohm: None\n",
      "\n",
      "循环 #3:\n",
      "  循环数据键: ['cycle_number', 'current_in_A', 'voltage_in_V', 'charge_capacity_in_Ah', 'discharge_capacity_in_Ah', 'time_in_s', 'temperature_in_C', 'internal_resistance_in_ohm']\n",
      "  cycle_number: 3\n",
      "  current_in_A: 长度=195, 前3个值=[-0.0017540301662326, -0.0017916477486935, -2.015479071309072]\n",
      "  voltage_in_V: 长度=195, 前3个值=[4.188186735991303, 4.187198338393574, 3.979994937998008]\n",
      "  charge_capacity_in_Ah: None\n",
      "  discharge_capacity_in_Ah: 长度=195, 前3个值=[0.0, 8.271771102363012e-06, 0.005322939586353302]\n",
      "  time_in_s: 长度=195, 前3个值=[0.0, 16.796999999999997, 35.766]\n",
      "  temperature_in_C: 长度=195, 前3个值=[24.7342661639544, 24.74050014862512, 24.79144997841632]\n",
      "  internal_resistance_in_ohm: None\n",
      "\n",
      "循环 #4:\n",
      "  循环数据键: ['cycle_number', 'current_in_A', 'voltage_in_V', 'charge_capacity_in_Ah', 'discharge_capacity_in_Ah', 'time_in_s', 'temperature_in_C', 'internal_resistance_in_ohm']\n",
      "  cycle_number: 4\n",
      "  current_in_A: 长度=194, 前3个值=[-0.0027750361294468, 0.0002337127076932, -2.011666450345293]\n",
      "  voltage_in_V: 长度=194, 前3个值=[4.188461118855572, 4.187752210174129, 3.981612882423148]\n",
      "  charge_capacity_in_Ah: None\n",
      "  discharge_capacity_in_Ah: 长度=194, 前3个值=[0.0, 7.00620597270684e-06, 0.005311716302555746]\n",
      "  time_in_s: 长度=194, 前3个值=[0.0, 16.766000000000002, 35.75]\n",
      "  temperature_in_C: 长度=194, 前3个值=[24.65423646922845, 24.65224374129252, 24.697863717115528]\n",
      "  internal_resistance_in_ohm: None\n",
      "\n",
      "循环 #5:\n",
      "  循环数据键: ['cycle_number', 'current_in_A', 'voltage_in_V', 'charge_capacity_in_Ah', 'discharge_capacity_in_Ah', 'time_in_s', 'temperature_in_C', 'internal_resistance_in_ohm']\n",
      "  cycle_number: 5\n",
      "  current_in_A: 长度=194, 前3个值=[-0.0079808668038886, 0.0017014548245034, -2.014019861370936]\n",
      "  voltage_in_V: 长度=194, 前3个值=[4.188298524761055, 4.187384730878918, 3.982253241291924]\n",
      "  charge_capacity_in_Ah: None\n",
      "  discharge_capacity_in_Ah: 长度=194, 前3个值=[0.0, 2.2483157681261922e-05, 0.005324110180569185]\n",
      "  time_in_s: 长度=194, 前3个值=[0.0, 16.719, 35.656000000000006]\n",
      "  temperature_in_C: 长度=194, 前3个值=[24.524796959348127, 24.518700434435164, 24.57162427153735]\n",
      "  internal_resistance_in_ohm: None\n",
      "\n",
      "电池基本信息:\n",
      "{'already_spent_cycles': 0,\n",
      " 'anode_material': 'graphite',\n",
      " 'cathode_material': 'NCA',\n",
      " 'cell_id': 'B0005',\n",
      " 'depth_of_charge': 1.0,\n",
      " 'depth_of_discharge': 1.0,\n",
      " 'description': 'NASA锂电池数据集 - B0005',\n",
      " 'electrolyte_material': None,\n",
      " 'form_factor': 'cylindrical',\n",
      " 'max_current_limit_in_A': None,\n",
      " 'max_voltage_limit_in_V': 4.2,\n",
      " 'min_current_limit_in_A': None,\n",
      " 'min_voltage_limit_in_V': 2.7,\n",
      " 'nominal_capacity_in_Ah': 2.0,\n",
      " 'reference': None}\n"
     ]
    }
   ],
   "source": [
    "import pprint\n",
    "\n",
    "# 指定文件路径\n",
    "file_path = '/kaggle/input/nasa-battery-data/B0005.pkl'\n",
    "\n",
    "# 加载pickle文件,把所有.pkl文件塞进battery_data里\n",
    "with open(file_path, 'rb') as f:\n",
    "    battery_data = pickle.load(f)\n",
    "\n",
    "# 打印对象类型\n",
    "print(f\"数据类型: {type(battery_data)}\")\n",
    "\n",
    "# 如果是字典，显示键列表\n",
    "if isinstance(battery_data, dict):\n",
    "    print(\"\\n字典的键:\")\n",
    "    print(list(battery_data.keys()))\n",
    "    \n",
    "    # 检查是否有cycle_data\n",
    "    if 'cycle_data' in battery_data and battery_data['cycle_data']:\n",
    "        print(\"\\n前5个循环数据:\")\n",
    "        for i, cycle in enumerate(battery_data['cycle_data'][:5]):\n",
    "            print(f\"\\n循环 #{i+1}:\")\n",
    "            # 如果cycle是字典，打印其键\n",
    "            if isinstance(cycle, dict):\n",
    "                cycle_keys = list(cycle.keys())\n",
    "                print(f\"  循环数据键: {cycle_keys}\")\n",
    "                \n",
    "                # 查看每个循环数据的内容摘要\n",
    "                for key in cycle_keys:\n",
    "                    if isinstance(cycle[key], list) and len(cycle[key]) > 0:\n",
    "                        print(f\"  {key}: 长度={len(cycle[key])}, 前3个值={cycle[key][:3]}\")\n",
    "                    else:\n",
    "                        print(f\"  {key}: {cycle[key]}\")\n",
    "            else:\n",
    "                print(f\"  {type(cycle)}\")\n",
    "    \n",
    "    # 显示电池基本信息\n",
    "    print(\"\\n电池基本信息:\")\n",
    "    basic_info = {k: v for k, v in battery_data.items() if k != 'cycle_data' and not isinstance(v, list)}\n",
    "    pprint.pprint(basic_info)\n",
    "    \n",
    "# 如果是BatteryData对象，显示其属性\n",
    "else:\n",
    "    print(\"\\n电池ID:\", getattr(battery_data, 'cell_id', 'N/A'))\n",
    "    \n",
    "    # 显示电池对象的属性\n",
    "    print(\"\\n电池对象属性:\")\n",
    "    for attr in dir(battery_data):\n",
    "        if not attr.startswith('_') and not callable(getattr(battery_data, attr)):\n",
    "            value = getattr(battery_data, attr)\n",
    "            if isinstance(value, list) and attr == 'cycle_data' and len(value) > 0:\n",
    "                print(f\"{attr}: {len(value)}个循环\")\n",
    "                \n",
    "                # 显示前10个循环数据的摘要\n",
    "                print(\"\\n前10个循环数据:\")\n",
    "                for i, cycle in enumerate(value[:10]):\n",
    "                    print(f\"\\n循环 #{i+1} (循环编号: {getattr(cycle, 'cycle_number', 'N/A')}):\")\n",
    "                    for cycle_attr in dir(cycle):\n",
    "                        if not cycle_attr.startswith('_') and not callable(getattr(cycle, cycle_attr)):\n",
    "                            cycle_value = getattr(cycle, cycle_attr)\n",
    "                            if isinstance(cycle_value, list) and len(cycle_value) > 0:\n",
    "                                print(f\"  {cycle_attr}: 长度={len(cycle_value)}, 前3个值={cycle_value[:3]}\")\n",
    "                            else:\n",
    "                                print(f\"  {cycle_attr}: {cycle_value}\")\n",
    "            elif not isinstance(value, list) or len(value) < 10:\n",
    "                print(f\"{attr}: {value}\")\n",
    "            else:\n",
    "                print(f\"{attr}: 长度={len(value)}, 类型={type(value[0])}\")"
   ]
  },
  {
   "cell_type": "code",
   "execution_count": null,
   "id": "0307fa77",
   "metadata": {
    "papermill": {
     "duration": 0.002754,
     "end_time": "2025-08-02T04:05:17.864704",
     "exception": false,
     "start_time": "2025-08-02T04:05:17.861950",
     "status": "completed"
    },
    "tags": []
   },
   "outputs": [],
   "source": []
  }
 ],
 "metadata": {
  "kaggle": {
   "accelerator": "none",
   "dataSources": [
    {
     "datasetId": 7978367,
     "sourceId": 12627038,
     "sourceType": "datasetVersion"
    },
    {
     "datasetId": 7979230,
     "sourceId": 12628358,
     "sourceType": "datasetVersion"
    }
   ],
   "dockerImageVersionId": 31089,
   "isGpuEnabled": false,
   "isInternetEnabled": false,
   "language": "python",
   "sourceType": "notebook"
  },
  "kernelspec": {
   "display_name": "Python 3",
   "language": "python",
   "name": "python3"
  },
  "language_info": {
   "codemirror_mode": {
    "name": "ipython",
    "version": 3
   },
   "file_extension": ".py",
   "mimetype": "text/x-python",
   "name": "python",
   "nbconvert_exporter": "python",
   "pygments_lexer": "ipython3",
   "version": "3.11.13"
  },
  "papermill": {
   "default_parameters": {},
   "duration": 53.242655,
   "end_time": "2025-08-02T04:05:20.309358",
   "environment_variables": {},
   "exception": null,
   "input_path": "__notebook__.ipynb",
   "output_path": "__notebook__.ipynb",
   "parameters": {},
   "start_time": "2025-08-02T04:04:27.066703",
   "version": "2.6.0"
  }
 },
 "nbformat": 4,
 "nbformat_minor": 5
}
